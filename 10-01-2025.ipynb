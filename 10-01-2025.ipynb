{
 "cells": [
  {
   "cell_type": "code",
   "execution_count": 4,
   "id": "bec8480b-d08d-45a5-8ee8-823cbee1e73a",
   "metadata": {},
   "outputs": [
    {
     "ename": "NameError",
     "evalue": "name 'SparkSession' is not defined",
     "output_type": "error",
     "traceback": [
      "\u001b[0;31m---------------------------------------------------------------------------\u001b[0m",
      "\u001b[0;31mNameError\u001b[0m                                 Traceback (most recent call last)",
      "Cell \u001b[0;32mIn[4], line 1\u001b[0m\n\u001b[0;32m----> 1\u001b[0m spark \u001b[38;5;241m=\u001b[39m \u001b[43mSparkSession\u001b[49m\u001b[38;5;241m.\u001b[39mbuilder\u001b[38;5;241m.\u001b[39mappName(\u001b[38;5;124m\"\u001b[39m\u001b[38;5;124mPySpark_practise\u001b[39m\u001b[38;5;124m\"\u001b[39m)\u001b[38;5;241m.\u001b[39mgetOrCreate()\n",
      "\u001b[0;31mNameError\u001b[0m: name 'SparkSession' is not defined"
     ]
    }
   ],
   "source": [
    "spark = SparkSession.builder.appName(\"PySpark_practise\").getOrCreate()"
   ]
  },
  {
   "cell_type": "code",
   "execution_count": 2,
   "id": "a296ac8b-0a16-49b6-8c1d-4d9a0d85e5e5",
   "metadata": {},
   "outputs": [
    {
     "ename": "NameError",
     "evalue": "name 'df' is not defined",
     "output_type": "error",
     "traceback": [
      "\u001b[0;31m---------------------------------------------------------------------------\u001b[0m",
      "\u001b[0;31mNameError\u001b[0m                                 Traceback (most recent call last)",
      "Cell \u001b[0;32mIn[2], line 1\u001b[0m\n\u001b[0;32m----> 1\u001b[0m \u001b[43mdf\u001b[49m\u001b[38;5;241m.\u001b[39mshow()\n",
      "\u001b[0;31mNameError\u001b[0m: name 'df' is not defined"
     ]
    }
   ],
   "source": [
    "df.show()"
   ]
  },
  {
   "cell_type": "code",
   "execution_count": 3,
   "id": "1bc63ff8-809a-42fc-9e96-594a8634ef41",
   "metadata": {},
   "outputs": [
    {
     "ename": "NameError",
     "evalue": "name 'spark' is not defined",
     "output_type": "error",
     "traceback": [
      "\u001b[0;31m---------------------------------------------------------------------------\u001b[0m",
      "\u001b[0;31mNameError\u001b[0m                                 Traceback (most recent call last)",
      "Cell \u001b[0;32mIn[3], line 1\u001b[0m\n\u001b[0;32m----> 1\u001b[0m df\u001b[38;5;241m=\u001b[39m\u001b[43mspark\u001b[49m\u001b[38;5;241m.\u001b[39mread\u001b[38;5;241m.\u001b[39mcsv(\u001b[38;5;124m'\u001b[39m\u001b[38;5;124mspark_null_values.csv\u001b[39m\u001b[38;5;124m'\u001b[39m,header\u001b[38;5;241m=\u001b[39m\u001b[38;5;28;01mTrue\u001b[39;00m,inferSchema\u001b[38;5;241m=\u001b[39m\u001b[38;5;124m'\u001b[39m\u001b[38;5;124mTrue\u001b[39m\u001b[38;5;124m'\u001b[39m)\n\u001b[1;32m      2\u001b[0m df\u001b[38;5;241m.\u001b[39mshow()\n",
      "\u001b[0;31mNameError\u001b[0m: name 'spark' is not defined"
     ]
    }
   ],
   "source": [
    "df=spark.read.csv('spark_null_values.csv',header=True,inferSchema='True')\n",
    "df.show()"
   ]
  },
  {
   "cell_type": "code",
   "execution_count": 4,
   "id": "7c32c346-2b40-402c-b2a2-8f2106eab8aa",
   "metadata": {},
   "outputs": [
    {
     "ename": "NameError",
     "evalue": "name 'mean_age' is not defined",
     "output_type": "error",
     "traceback": [
      "\u001b[0;31m---------------------------------------------------------------------------\u001b[0m",
      "\u001b[0;31mNameError\u001b[0m                                 Traceback (most recent call last)",
      "Cell \u001b[0;32mIn[4], line 1\u001b[0m\n\u001b[0;32m----> 1\u001b[0m \u001b[38;5;28mprint\u001b[39m(\u001b[43mmean_age\u001b[49m)\n",
      "\u001b[0;31mNameError\u001b[0m: name 'mean_age' is not defined"
     ]
    }
   ],
   "source": [
    "print(mean_age)"
   ]
  },
  {
   "cell_type": "code",
   "execution_count": 7,
   "id": "13eeba7b-b323-4838-bd18-d14b333cde86",
   "metadata": {},
   "outputs": [
    {
     "name": "stdout",
     "output_type": "stream",
     "text": [
      "30.0\n"
     ]
    }
   ],
   "source": [
    "from pyspark.sql.functions import *\n",
    "mean_age=df.select(round(mean('Age'))).first()[0]\n",
    "print(mean_age)"
   ]
  },
  {
   "cell_type": "code",
   "execution_count": 17,
   "id": "2cdcb55a-3ec6-454b-90d8-a9afd539c04d",
   "metadata": {},
   "outputs": [
    {
     "name": "stdout",
     "output_type": "stream",
     "text": [
      "29.0\n"
     ]
    }
   ],
   "source": [
    "median_age=df.approxQuantile('Age',[0.50],0.0)[0]\n",
    "print(median_age)"
   ]
  },
  {
   "cell_type": "code",
   "execution_count": 19,
   "id": "8edcd298-5669-442f-b9a0-73a35527c21d",
   "metadata": {},
   "outputs": [
    {
     "name": "stdout",
     "output_type": "stream",
     "text": [
      "80071.0\n"
     ]
    }
   ],
   "source": [
    "mean_salary=df.select(round(mean('Salary'))).first()[0]\n",
    "print(mean_salary)"
   ]
  },
  {
   "cell_type": "code",
   "execution_count": 21,
   "id": "0f91daea-5f6c-4837-98ed-a60e081dc4d0",
   "metadata": {},
   "outputs": [
    {
     "name": "stdout",
     "output_type": "stream",
     "text": [
      "95000.0\n"
     ]
    }
   ],
   "source": [
    "median_salary=df.approxQuantile('Salary',[0.75],0.4)[0]\n",
    "print(median_salary)"
   ]
  },
  {
   "cell_type": "code",
   "execution_count": 23,
   "id": "744f0e06-9b46-469e-ba60-4aa5b03dd850",
   "metadata": {},
   "outputs": [
    {
     "name": "stdout",
     "output_type": "stream",
     "text": [
      "+---+-------+----+------------+-------+\n",
      "| ID|   Name| Age|        City| Salary|\n",
      "+---+-------+----+------------+-------+\n",
      "|  1|  Alice|25.0|    New York|70000.0|\n",
      "|  2|    Bob|30.0|        NULL|80000.0|\n",
      "|  3|Charlie|35.0| Los Angeles|90000.0|\n",
      "|  4|  David|29.0|     Chicago|   NULL|\n",
      "|  5|    Eve|28.0|        NULL|75000.0|\n",
      "|  6|  Frank|40.0|     Houston|   NULL|\n",
      "|  7|  Grace|29.0|     Phoenix|85000.0|\n",
      "|  8|  Helen|22.0|Philadelphia|67000.0|\n",
      "|  9|    Ivy|29.0| San Antonio|   NULL|\n",
      "| 10|   Jack|29.0|        NULL|72000.0|\n",
      "| 11|  Kathy|33.0|      Dallas|81000.0|\n",
      "| 12|    Leo|31.0|   San Diego|   NULL|\n",
      "| 13|   Mona|26.0|        NULL|73000.0|\n",
      "| 14| Nathan|29.0|    San Jose|94000.0|\n",
      "| 15| Olivia|24.0|      Austin|   NULL|\n",
      "| 16|   Paul|38.0|        NULL|62000.0|\n",
      "| 17|  Quinn|27.0|     Seattle|89000.0|\n",
      "| 18| Rachel|29.0|      Denver|   NULL|\n",
      "| 19|  Steve|32.0|      Boston|95000.0|\n",
      "| 20|    Tom|29.0|        NULL|88000.0|\n",
      "+---+-------+----+------------+-------+\n",
      "\n"
     ]
    }
   ],
   "source": [
    "df_filled = df.withColumn(\n",
    "    \"Age\",\n",
    "    when(\n",
    "        col(\"Age\").isNull(),\n",
    "        (rand() * (mean_age - median_age) + median_age).cast(\"int\")  # Random integer in range\n",
    "    ).otherwise(col(\"Age\"))\n",
    ")\n",
    "df_filled.show()"
   ]
  },
  {
   "cell_type": "code",
   "execution_count": 24,
   "id": "36fbd160-8ed2-4b26-9561-ffa907488ab6",
   "metadata": {},
   "outputs": [
    {
     "name": "stdout",
     "output_type": "stream",
     "text": [
      "29.0\n"
     ]
    }
   ],
   "source": [
    "mode_age = df_filled.groupBy('Age').count().orderBy(col('count').desc()).first()[0]\n",
    "print(mode_age )"
   ]
  },
  {
   "cell_type": "code",
   "execution_count": 25,
   "id": "1a3426d8-d1e0-44f5-89a5-6db268f0a0ee",
   "metadata": {},
   "outputs": [
    {
     "name": "stdout",
     "output_type": "stream",
     "text": [
      "None\n"
     ]
    }
   ],
   "source": [
    "mode_age = df.groupBy('Age').count().orderBy(col('count').desc()).first()[0]\n",
    "print(mode_age)"
   ]
  },
  {
   "cell_type": "code",
   "execution_count": 26,
   "id": "fe29e562-c4b5-4d8d-912c-827e48f483a0",
   "metadata": {},
   "outputs": [
    {
     "data": {
      "text/plain": [
       "[('ID', 'int'),\n",
       " ('Name', 'string'),\n",
       " ('Age', 'double'),\n",
       " ('City', 'string'),\n",
       " ('Salary', 'double')]"
      ]
     },
     "execution_count": 26,
     "metadata": {},
     "output_type": "execute_result"
    }
   ],
   "source": [
    "df.dtypes"
   ]
  },
  {
   "cell_type": "code",
   "execution_count": 5,
   "id": "fe3df7b9-c57c-456d-b2a4-4fe198f64468",
   "metadata": {},
   "outputs": [
    {
     "name": "stdout",
     "output_type": "stream",
     "text": [
      "None\n"
     ]
    }
   ],
   "source": [
    "mode_age = df.groupBy('Age').count().orderBy(col('count').desc()).first()[0]\n",
    "print(mode_age)"
   ]
  },
  {
   "cell_type": "code",
   "execution_count": 28,
   "id": "18769761-00c2-4df3-8adb-94203375c245",
   "metadata": {},
   "outputs": [
    {
     "data": {
      "text/plain": [
       "[('ID', 'int'),\n",
       " ('Name', 'string'),\n",
       " ('Age', 'double'),\n",
       " ('City', 'string'),\n",
       " ('Salary', 'double')]"
      ]
     },
     "execution_count": 28,
     "metadata": {},
     "output_type": "execute_result"
    }
   ],
   "source": [
    "df.dtypes"
   ]
  },
  {
   "cell_type": "code",
   "execution_count": 4,
   "id": "1d0b4309-776a-4a2f-8bb3-78818fa43e2f",
   "metadata": {},
   "outputs": [
    {
     "name": "stdout",
     "output_type": "stream",
     "text": [
      "Count of 29.0: 2\n"
     ]
    }
   ],
   "source": [
    " from pyspark.sql.functions import col\n",
    "\n",
    "count_29 = df.filter(col('Age') == 29.0).count()\n",
    "print(\"Count of 29.0:\", count_29)\n"
   ]
  },
  {
   "cell_type": "code",
   "execution_count": 9,
   "id": "5bcf6a6c-da3c-4055-9d16-f33386058de6",
   "metadata": {},
   "outputs": [
    {
     "ename": "AttributeError",
     "evalue": "'GroupedData' object has no attribute 'display'",
     "output_type": "error",
     "traceback": [
      "\u001b[0;31m---------------------------------------------------------------------------\u001b[0m",
      "\u001b[0;31mAttributeError\u001b[0m                            Traceback (most recent call last)",
      "Cell \u001b[0;32mIn[9], line 1\u001b[0m\n\u001b[0;32m----> 1\u001b[0m df_age \u001b[38;5;241m=\u001b[39m \u001b[43mdf\u001b[49m\u001b[38;5;241;43m.\u001b[39;49m\u001b[43mgroupBy\u001b[49m\u001b[43m(\u001b[49m\u001b[38;5;124;43m'\u001b[39;49m\u001b[38;5;124;43mAge\u001b[39;49m\u001b[38;5;124;43m'\u001b[39;49m\u001b[43m)\u001b[49m\u001b[38;5;241;43m.\u001b[39;49m\u001b[43mdisplay\u001b[49m()\n",
      "\u001b[0;31mAttributeError\u001b[0m: 'GroupedData' object has no attribute 'display'"
     ]
    }
   ],
   "source": [
    "df_age = df.groupBy('Age')"
   ]
  },
  {
   "cell_type": "code",
   "execution_count": null,
   "id": "09f89e90-dee2-45d8-b9ac-aaf447621f95",
   "metadata": {},
   "outputs": [],
   "source": []
  },
  {
   "cell_type": "code",
   "execution_count": null,
   "id": "9db325dd-fd75-4f82-9f04-176f0db20572",
   "metadata": {},
   "outputs": [],
   "source": []
  }
 ],
 "metadata": {
  "kernelspec": {
   "display_name": "Python 3 (ipykernel)",
   "language": "python",
   "name": "python3"
  },
  "language_info": {
   "codemirror_mode": {
    "name": "ipython",
    "version": 3
   },
   "file_extension": ".py",
   "mimetype": "text/x-python",
   "name": "python",
   "nbconvert_exporter": "python",
   "pygments_lexer": "ipython3",
   "version": "3.10.12"
  }
 },
 "nbformat": 4,
 "nbformat_minor": 5
}
